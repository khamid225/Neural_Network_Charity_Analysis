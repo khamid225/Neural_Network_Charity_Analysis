{
 "cells": [
  {
   "cell_type": "markdown",
   "id": "fb7a0b25",
   "metadata": {},
   "source": [
    "# Deliverable 3"
   ]
  },
  {
   "cell_type": "markdown",
   "id": "314cd1e6",
   "metadata": {},
   "source": [
    "Trying to get more than 75% of accuracy"
   ]
  },
  {
   "cell_type": "code",
   "execution_count": 1,
   "id": "584bd9c5",
   "metadata": {},
   "outputs": [],
   "source": [
    "# Import our dependencies\n",
    "from sklearn.model_selection import train_test_split\n",
    "from sklearn.preprocessing import StandardScaler,OneHotEncoder\n",
    "import pandas as pd\n",
    "import tensorflow as tf\n",
    "\n",
    "#  Import and read the charity_data.csv.\n",
    "import pandas as pd \n",
    "application_df = pd.read_csv(\"charity_data.csv\")"
   ]
  },
  {
   "cell_type": "code",
   "execution_count": 4,
   "id": "c86c6dbb",
   "metadata": {},
   "outputs": [
    {
     "name": "stderr",
     "output_type": "stream",
     "text": [
      "/tmp/ipykernel_271065/88848161.py:1: FutureWarning: In a future version of pandas all arguments of DataFrame.drop except for the argument 'labels' will be keyword-only\n",
      "  application_df = application_df.drop(['EIN', 'NAME'], 1)\n"
     ]
    }
   ],
   "source": [
    "application_df = application_df.drop(['EIN', 'NAME'], 1)"
   ]
  },
  {
   "cell_type": "code",
   "execution_count": 5,
   "id": "4f16a22c",
   "metadata": {},
   "outputs": [],
   "source": [
    "atc = application_df.APPLICATION_TYPE.value_counts()"
   ]
  },
  {
   "cell_type": "code",
   "execution_count": 6,
   "id": "83485028",
   "metadata": {},
   "outputs": [
    {
     "data": {
      "text/plain": [
       "T3       27037\n",
       "T4        1542\n",
       "T6        1216\n",
       "T5        1173\n",
       "T19       1065\n",
       "T8         737\n",
       "T7         725\n",
       "T10        528\n",
       "Other      276\n",
       "Name: APPLICATION_TYPE, dtype: int64"
      ]
     },
     "execution_count": 6,
     "metadata": {},
     "output_type": "execute_result"
    }
   ],
   "source": [
    "# Determine which values to replace if counts are less than ...?\n",
    "replace_app = atc[atc < 500].index\n",
    "\n",
    "# Replace in dataframe\n",
    "for app in replace_app:\n",
    "    application_df.APPLICATION_TYPE = application_df.APPLICATION_TYPE.replace(app, \"Other\")\n",
    "    \n",
    "# Check to make sure binning was successful\n",
    "application_df.APPLICATION_TYPE.value_counts()"
   ]
  },
  {
   "cell_type": "code",
   "execution_count": 7,
   "id": "88b14f4e",
   "metadata": {},
   "outputs": [],
   "source": [
    "cv = application_df.CLASSIFICATION.value_counts()"
   ]
  },
  {
   "cell_type": "code",
   "execution_count": 8,
   "id": "14044879",
   "metadata": {},
   "outputs": [],
   "source": [
    "# Determine which values to replace if counts are less than ..?\n",
    "rc = list(cv[cv < 500].index)\n",
    "\n",
    "# Replace in dataframe\n",
    "for cls_ in rc:\n",
    "    application_df.CLASSIFICATION = application_df.CLASSIFICATION.replace(cls_, \"Other\")"
   ]
  },
  {
   "cell_type": "code",
   "execution_count": 9,
   "id": "239b9bc9",
   "metadata": {},
   "outputs": [],
   "source": [
    "app_category = application_df.dtypes[application_df.dtypes == \"object\"].index"
   ]
  },
  {
   "cell_type": "code",
   "execution_count": 13,
   "id": "cc2f741b",
   "metadata": {},
   "outputs": [
    {
     "name": "stderr",
     "output_type": "stream",
     "text": [
      "/tmp/ipykernel_271065/2383433740.py:14: FutureWarning: In a future version of pandas all arguments of DataFrame.drop except for the argument 'labels' will be keyword-only\n",
      "  t2 = application_df.drop([\"IS_SUCCESSFUL\"],1).values\n"
     ]
    }
   ],
   "source": [
    "enc = OneHotEncoder(sparse=False)\n",
    "\n",
    "# Fit and transform the OneHotEncoder using the categorical variable list\n",
    "encodedf = pd.DataFrame(enc.fit_transform(application_df[app_category]))\n",
    "\n",
    "# Add the encoded variable names to the dataframe\n",
    "encodedf.columns = enc.get_feature_names(app_category)\n",
    "\n",
    "# Merge one-hot encoded features and drop the originals\n",
    "application_df = application_df.merge(encodedf, left_index=True, right_index=True)\n",
    "application_df = application_df.drop(columns = app_category)\n",
    "# Split our preprocessed data into our features and target arrays\n",
    "t1 = application_df[\"IS_SUCCESSFUL\"].values\n",
    "t2 = application_df.drop([\"IS_SUCCESSFUL\"],1).values\n",
    "\n",
    "# Split the preprocessed data into a training and testing dataset\n",
    "\n",
    "# Split the preprocessed data into a training and testing dataset\n",
    "X_train, X_test, y_train, y_test = train_test_split(t2, t1, random_state=78)\n",
    "\n",
    "# Create a StandardScaler instances\n",
    "scaler = StandardScaler()\n",
    "\n",
    "# Fit the StandardScaler\n",
    "X_scaler = scaler.fit(X_train)\n",
    "\n",
    "# Scale the data\n",
    "X_train_scaled = X_scaler.transform(X_train)\n",
    "X_test_scaled = X_scaler.transform(X_test)"
   ]
  },
  {
   "cell_type": "code",
   "execution_count": 14,
   "id": "93fccd3d",
   "metadata": {},
   "outputs": [
    {
     "name": "stdout",
     "output_type": "stream",
     "text": [
      "Model: \"sequential\"\n",
      "_________________________________________________________________\n",
      "Layer (type)                 Output Shape              Param #   \n",
      "=================================================================\n",
      "dense (Dense)                (None, 80)                3600      \n",
      "_________________________________________________________________\n",
      "dense_1 (Dense)              (None, 30)                2430      \n",
      "_________________________________________________________________\n",
      "dense_2 (Dense)              (None, 1)                 31        \n",
      "=================================================================\n",
      "Total params: 6,061\n",
      "Trainable params: 6,061\n",
      "Non-trainable params: 0\n",
      "_________________________________________________________________\n"
     ]
    },
    {
     "name": "stderr",
     "output_type": "stream",
     "text": [
      "2021-09-19 23:44:51.104078: I tensorflow/core/platform/cpu_feature_guard.cc:142] This TensorFlow binary is optimized with oneAPI Deep Neural Network Library (oneDNN) to use the following CPU instructions in performance-critical operations:  SSE4.1 SSE4.2 AVX AVX2 FMA\n",
      "To enable them in other operations, rebuild TensorFlow with the appropriate compiler flags.\n",
      "2021-09-19 23:44:51.106439: I tensorflow/core/common_runtime/process_util.cc:146] Creating new thread pool with default inter op setting: 2. Tune using inter_op_parallelism_threads for best performance.\n"
     ]
    }
   ],
   "source": [
    "# Define the model - deep neural net, i.e., the number of input features and hidden nodes for each layer.\n",
    "#  YOUR CODE GOES HERE\n",
    "number_input_features = len(X_train[0])\n",
    "hidden_nodes_l1 =  80\n",
    "hidden_nodes_l2 = 30\n",
    "hidden_nodes_l3 = 20\n",
    "\n",
    "nn = tf.keras.models.Sequential()\n",
    "\n",
    "# First hidden layer\n",
    "nn.add(\n",
    "    tf.keras.layers.Dense(units=hidden_nodes_l1, \n",
    "                          input_dim=number_input_features, \n",
    "                          activation=\"relu\")\n",
    "    )\n",
    "\n",
    "# Second hidden layer\n",
    "nn.add(\n",
    "    tf.keras.layers.Dense(units=hidden_nodes_l2, \n",
    "                          activation=\"sigmoid\"))\n",
    "\n",
    "# Output layer\n",
    "nn.add(\n",
    "    tf.keras.layers.Dense(units=1, \n",
    "                          activation=\"sigmoid\"))\n",
    "\n",
    "# Check the structure of the model\n",
    "nn.summary()"
   ]
  },
  {
   "cell_type": "code",
   "execution_count": 15,
   "id": "9f6bea10",
   "metadata": {
    "scrolled": false
   },
   "outputs": [
    {
     "name": "stderr",
     "output_type": "stream",
     "text": [
      "2021-09-19 23:46:55.213197: I tensorflow/compiler/mlir/mlir_graph_optimization_pass.cc:176] None of the MLIR Optimization Passes are enabled (registered 2)\n",
      "2021-09-19 23:46:55.231118: I tensorflow/core/platform/profile_utils/cpu_utils.cc:114] CPU Frequency: 2096020000 Hz\n"
     ]
    },
    {
     "name": "stdout",
     "output_type": "stream",
     "text": [
      "Epoch 1/30\n",
      "804/804 [==============================] - 3s 3ms/step - loss: 0.5729 - accuracy: 0.7207\n",
      "Epoch 2/30\n",
      "196/804 [======>.......................] - ETA: 1s - loss: 0.5558 - accuracy: 0.7313\n",
      "Epoch 00002: saving model to weights.02.hdf5\n",
      "804/804 [==============================] - 3s 3ms/step - loss: 0.5552 - accuracy: 0.7320\n",
      "Epoch 3/30\n",
      "389/804 [=============>................] - ETA: 1s - loss: 0.5585 - accuracy: 0.7245\n",
      "Epoch 00003: saving model to weights.03.hdf5\n",
      "804/804 [==============================] - 3s 3ms/step - loss: 0.5528 - accuracy: 0.7307\n",
      "Epoch 4/30\n",
      "578/804 [====================>.........] - ETA: 0s - loss: 0.5507 - accuracy: 0.7331\n",
      "Epoch 00004: saving model to weights.04.hdf5\n",
      "804/804 [==============================] - 3s 3ms/step - loss: 0.5507 - accuracy: 0.7323\n",
      "Epoch 5/30\n",
      "757/804 [===========================>..] - ETA: 0s - loss: 0.5492 - accuracy: 0.7313\n",
      "Epoch 00005: saving model to weights.05.hdf5\n",
      "804/804 [==============================] - 2s 2ms/step - loss: 0.5492 - accuracy: 0.7318\n",
      "Epoch 6/30\n",
      "804/804 [==============================] - 2s 3ms/step - loss: 0.5480 - accuracy: 0.7342\n",
      "Epoch 7/30\n",
      "157/804 [====>.........................] - ETA: 1s - loss: 0.5416 - accuracy: 0.7402\n",
      "Epoch 00007: saving model to weights.07.hdf5\n",
      "804/804 [==============================] - 2s 3ms/step - loss: 0.5473 - accuracy: 0.7332\n",
      "Epoch 8/30\n",
      "366/804 [============>.................] - ETA: 1s - loss: 0.5461 - accuracy: 0.7369\n",
      "Epoch 00008: saving model to weights.08.hdf5\n",
      "804/804 [==============================] - 2s 3ms/step - loss: 0.5467 - accuracy: 0.7343\n",
      "Epoch 9/30\n",
      "551/804 [===================>..........] - ETA: 0s - loss: 0.5455 - accuracy: 0.7366\n",
      "Epoch 00009: saving model to weights.09.hdf5\n",
      "804/804 [==============================] - 2s 3ms/step - loss: 0.5462 - accuracy: 0.7339\n",
      "Epoch 10/30\n",
      "760/804 [===========================>..] - ETA: 0s - loss: 0.5450 - accuracy: 0.7347\n",
      "Epoch 00010: saving model to weights.10.hdf5\n",
      "804/804 [==============================] - 3s 3ms/step - loss: 0.5456 - accuracy: 0.7343\n",
      "Epoch 11/30\n",
      "804/804 [==============================] - 3s 3ms/step - loss: 0.5455 - accuracy: 0.7331\n",
      "Epoch 12/30\n",
      "144/804 [====>.........................] - ETA: 1s - loss: 0.5461 - accuracy: 0.7292\n",
      "Epoch 00012: saving model to weights.12.hdf5\n",
      "804/804 [==============================] - 3s 3ms/step - loss: 0.5449 - accuracy: 0.7346\n",
      "Epoch 13/30\n",
      "348/804 [===========>..................] - ETA: 1s - loss: 0.5495 - accuracy: 0.7278\n",
      "Epoch 00013: saving model to weights.13.hdf5\n",
      "804/804 [==============================] - 3s 4ms/step - loss: 0.5445 - accuracy: 0.7353\n",
      "Epoch 14/30\n",
      "544/804 [===================>..........] - ETA: 0s - loss: 0.5460 - accuracy: 0.7354\n",
      "Epoch 00014: saving model to weights.14.hdf5\n",
      "804/804 [==============================] - 3s 4ms/step - loss: 0.5440 - accuracy: 0.7360\n",
      "Epoch 15/30\n",
      "729/804 [==========================>...] - ETA: 0s - loss: 0.5435 - accuracy: 0.7356\n",
      "Epoch 00015: saving model to weights.15.hdf5\n",
      "804/804 [==============================] - 3s 3ms/step - loss: 0.5437 - accuracy: 0.7350\n",
      "Epoch 16/30\n",
      "804/804 [==============================] - 3s 4ms/step - loss: 0.5436 - accuracy: 0.7356\n",
      "Epoch 17/30\n",
      "116/804 [===>..........................] - ETA: 2s - loss: 0.5445 - accuracy: 0.7352\n",
      "Epoch 00017: saving model to weights.17.hdf5\n",
      "804/804 [==============================] - 3s 4ms/step - loss: 0.5431 - accuracy: 0.7364\n",
      "Epoch 18/30\n",
      "328/804 [===========>..................] - ETA: 1s - loss: 0.5452 - accuracy: 0.7333\n",
      "Epoch 00018: saving model to weights.18.hdf5\n",
      "804/804 [==============================] - 3s 3ms/step - loss: 0.5428 - accuracy: 0.7353\n",
      "Epoch 19/30\n",
      "524/804 [==================>...........] - ETA: 1s - loss: 0.5400 - accuracy: 0.7387\n",
      "Epoch 00019: saving model to weights.19.hdf5\n",
      "804/804 [==============================] - 3s 4ms/step - loss: 0.5426 - accuracy: 0.7361\n",
      "Epoch 20/30\n",
      "712/804 [=========================>....] - ETA: 0s - loss: 0.5425 - accuracy: 0.7367\n",
      "Epoch 00020: saving model to weights.20.hdf5\n",
      "804/804 [==============================] - 3s 3ms/step - loss: 0.5421 - accuracy: 0.7363\n",
      "Epoch 21/30\n",
      "804/804 [==============================] - 2s 3ms/step - loss: 0.5419 - accuracy: 0.7369\n",
      "Epoch 22/30\n",
      "115/804 [===>..........................] - ETA: 2s - loss: 0.5428 - accuracy: 0.7399\n",
      "Epoch 00022: saving model to weights.22.hdf5\n",
      "804/804 [==============================] - 3s 3ms/step - loss: 0.5418 - accuracy: 0.7375\n",
      "Epoch 23/30\n",
      "311/804 [==========>...................] - ETA: 1s - loss: 0.5441 - accuracy: 0.7367\n",
      "Epoch 00023: saving model to weights.23.hdf5\n",
      "804/804 [==============================] - 3s 4ms/step - loss: 0.5418 - accuracy: 0.7368\n",
      "Epoch 24/30\n",
      "497/804 [=================>............] - ETA: 0s - loss: 0.5416 - accuracy: 0.7378\n",
      "Epoch 00024: saving model to weights.24.hdf5\n",
      "804/804 [==============================] - 3s 3ms/step - loss: 0.5414 - accuracy: 0.7373\n",
      "Epoch 25/30\n",
      "702/804 [=========================>....] - ETA: 0s - loss: 0.5407 - accuracy: 0.7370\n",
      "Epoch 00025: saving model to weights.25.hdf5\n",
      "804/804 [==============================] - 2s 3ms/step - loss: 0.5410 - accuracy: 0.7369\n",
      "Epoch 26/30\n",
      "804/804 [==============================] - 3s 3ms/step - loss: 0.5408 - accuracy: 0.7371\n",
      "Epoch 27/30\n",
      " 86/804 [==>...........................] - ETA: 2s - loss: 0.5462 - accuracy: 0.7369\n",
      "Epoch 00027: saving model to weights.27.hdf5\n",
      "804/804 [==============================] - 3s 3ms/step - loss: 0.5408 - accuracy: 0.7371\n",
      "Epoch 28/30\n",
      "289/804 [=========>....................] - ETA: 1s - loss: 0.5445 - accuracy: 0.7327\n",
      "Epoch 00028: saving model to weights.28.hdf5\n",
      "804/804 [==============================] - 3s 4ms/step - loss: 0.5406 - accuracy: 0.7380\n",
      "Epoch 29/30\n",
      "481/804 [================>.............] - ETA: 1s - loss: 0.5363 - accuracy: 0.7376\n",
      "Epoch 00029: saving model to weights.29.hdf5\n",
      "804/804 [==============================] - 3s 4ms/step - loss: 0.5403 - accuracy: 0.7370\n",
      "Epoch 30/30\n",
      "678/804 [========================>.....] - ETA: 0s - loss: 0.5400 - accuracy: 0.7377\n",
      "Epoch 00030: saving model to weights.30.hdf5\n",
      "804/804 [==============================] - 3s 4ms/step - loss: 0.5402 - accuracy: 0.7378\n",
      "268/268 - 1s - loss: 0.5498 - accuracy: 0.7256\n",
      "Loss: 0.5497579574584961, Accuracy: 0.7255976796150208\n"
     ]
    }
   ],
   "source": [
    "from tensorflow.keras.callbacks import ModelCheckpoint\n",
    "\n",
    "checkpoint_path = \"weights.{epoch:02d}.hdf5\"\n",
    "\n",
    "# Compile the model\n",
    "nn.compile(loss=\"binary_crossentropy\", \n",
    "           optimizer=\"adam\", \n",
    "           metrics=[\"accuracy\"])\n",
    "\n",
    "# Create a callback that saves the model's weights every 5 epochs\n",
    "cp_callback = ModelCheckpoint(\n",
    "    filepath=checkpoint_path,\n",
    "    verbose=1,\n",
    "    save_weights_only=True,\n",
    "    save_freq=1000)\n",
    "\n",
    "# Train the model\n",
    "fit_model = nn.fit(X_train_scaled,\n",
    "                   y_train,epochs=30,\n",
    "                   callbacks=[cp_callback])\n",
    "\n",
    "# Evaluate the model using the test data\n",
    "model_loss, model_accuracy = nn.evaluate(X_test_scaled,y_test,verbose=2)\n",
    "print(f\"Loss: {model_loss}, Accuracy: {model_accuracy}\")"
   ]
  }
 ],
 "metadata": {
  "kernelspec": {
   "display_name": "Python 3 (ipykernel)",
   "language": "python",
   "name": "python3"
  },
  "language_info": {
   "codemirror_mode": {
    "name": "ipython",
    "version": 3
   },
   "file_extension": ".py",
   "mimetype": "text/x-python",
   "name": "python",
   "nbconvert_exporter": "python",
   "pygments_lexer": "ipython3",
   "version": "3.9.7"
  }
 },
 "nbformat": 4,
 "nbformat_minor": 5
}
